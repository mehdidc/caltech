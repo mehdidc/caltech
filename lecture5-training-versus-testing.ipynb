{
 "cells": [
  {
   "cell_type": "markdown",
   "metadata": {
    "collapsed": true
   },
   "source": [
    "* error measure on deterministic outputs : test error is expectation over inputs of the loss where inputs are distributed according to $p(x)$\n",
    "* error measure on noisy outputs : test error is expectation over inputs and outputs of the loss where inputs and outputs are distributed according to $p(x, y)$"
   ]
  }
 ],
 "metadata": {
  "kernelspec": {
   "display_name": "Python 2",
   "language": "python",
   "name": "python2"
  },
  "language_info": {
   "codemirror_mode": {
    "name": "ipython",
    "version": 2
   },
   "file_extension": ".py",
   "mimetype": "text/x-python",
   "name": "python",
   "nbconvert_exporter": "python",
   "pygments_lexer": "ipython2",
   "version": "2.7.11"
  }
 },
 "nbformat": 4,
 "nbformat_minor": 0
}
