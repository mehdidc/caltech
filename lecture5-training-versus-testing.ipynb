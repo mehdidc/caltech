{
 "cells": [
  {
   "cell_type": "markdown",
   "metadata": {
    "collapsed": true
   },
   "source": [
    "* error measure on deterministic outputs : test error is expectation over inputs of the loss where inputs are distributed according to $p(x)$\n",
    "* error measure on noisy outputs : test error is expectation over inputs and outputs of the loss where inputs and outputs are distributed according to $p(x, y)$"
   ]
  },
  {
   "cell_type": "markdown",
   "metadata": {},
   "source": [
    "Summary of the lecture : how to replace the size of the hypothesis set in the modified heofding inequality by a term which is more friendly and justify that, this is the VC. because for a simple perceptron algorithm, \n",
    "the size of the hypothesis set is inifnity and thus the bound is not useful at all. \n",
    "\n",
    "$P(|E_{in} - E_{out}| > \\epsilon) <= 2M e^{-2\\epsilon^2 N}$ where M is the size of the hypothesis set and N number of training\n",
    "examples."
   ]
  },
  {
   "cell_type": "markdown",
   "metadata": {},
   "source": [
    "the bound based on M can be improved.\n",
    "we used the union bound to take into account  choices of different hypotheses in training phase, then we took\n",
    "the worst case to compute the bound, the worst  case is where all the 'bad events' are not correlated at all(no overlapping). a bad event happen when $P(|E_{in} - E_{out}| > \\epsilon)$.  we assumed that a bad event happening with a hypothesis h1 do not give us any information about the fact that a bad event happening in h2."
   ]
  },
  {
   "cell_type": "code",
   "execution_count": null,
   "metadata": {
    "collapsed": true
   },
   "outputs": [],
   "source": []
  }
 ],
 "metadata": {
  "kernelspec": {
   "display_name": "Python 3",
   "language": "python",
   "name": "python3"
  },
  "language_info": {
   "codemirror_mode": {
    "name": "ipython",
    "version": 3
   },
   "file_extension": ".py",
   "mimetype": "text/x-python",
   "name": "python",
   "nbconvert_exporter": "python",
   "pygments_lexer": "ipython3",
   "version": "3.5.2"
  }
 },
 "nbformat": 4,
 "nbformat_minor": 0
}
