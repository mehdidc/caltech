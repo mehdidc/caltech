{
 "cells": [
  {
   "cell_type": "markdown",
   "metadata": {},
   "source": [
    "## • Bins and Marbles"
   ]
  },
  {
   "cell_type": "markdown",
   "metadata": {},
   "source": [
    "Q1 and Q2 easy"
   ]
  },
  {
   "cell_type": "markdown",
   "metadata": {
    "collapsed": true
   },
   "source": [
    "# Q3:\n",
    "\n",
    "first bag = 2 black balls\n",
    "second bag = black ball and white ball\n",
    "you take a bag and open it, you find a black ball,\n",
    "what is the proba of other ball in that bag  being black?"
   ]
  },
  {
   "cell_type": "markdown",
   "metadata": {},
   "source": [
    "$P(black | first bag) = 1$\n",
    "\n",
    "$P(white | first bag) = 0$\n",
    "\n",
    "$P(black | second bag) = 0.5$\n",
    "\n",
    "$p(white | second bag) = 0.5$\n",
    "\n",
    "\n",
    "$P(c2=black | c1=black) = (P(c2=black|c1=black, first bag) * P(first bag|c1=black) + \n",
    "                         P(c2=black|c1=black, second fag)* P(second bag|c2=black))$\n",
    "\n",
    "\n",
    "$P(c2=black | c1=black) = 1 * P(first bag|c1=black) + 0 * ... = P(first bag|c1=black)$\n",
    "\n",
    "$P(first bag|c1=black)=P(c1=black|first bag)\\frac{P(first bag)}{P(c1=black)} = 1 * \\frac{0.5}{0.5*1+0.5*0.5} =\\frac{2}{3}$"
   ]
  },
  {
   "cell_type": "code",
   "execution_count": null,
   "metadata": {
    "collapsed": false
   },
   "outputs": [],
   "source": [
    "## empirical test\n",
    "import numpy as np\n",
    "from itertools import imap, repeat, ifilter\n",
    "from functools import partial\n",
    "import random\n",
    "nb_trials = 1000000\n",
    "bags = repeat(('bag1', 'bag2'), nb_trials)\n",
    "bags = imap(partial(random.choice), bags)\n",
    "def select_balls(bag):\n",
    "    if bag == 'bag1': \n",
    "        return ('black', 'black')\n",
    "    if bag == 'bag2':\n",
    "        return random.choice((('black', 'white'), ('white', 'black')))\n",
    "balls = imap(select_balls, bags)\n",
    "balls = ifilter(lambda (ball1, ball2): ball1 == 'black', balls)\n",
    "balls = list(balls)\n",
    "counts = imap(lambda (ball1, ball2):(ball1, ball2) == ('black', 'black'), balls)\n",
    "counts = list(counts)\n",
    "pr = sum(counts) / float(len(counts))\n",
    "print(pr)"
   ]
  },
  {
   "cell_type": "markdown",
   "metadata": {
    "collapsed": true
   },
   "source": [
    "## Q4\n",
    "\n",
    "we draw 10 samples from a bin of red and green balls, pr of choosing red is 0.55. \n",
    "proba of not getting red in 10 samples ?\n",
    "\n",
    "$p(all green) = 0.45^{10} = 3.40*10^{-4}$\n",
    "\n",
    "closest answer = B\n",
    "\n",
    "## Q5\n",
    "\n",
    "we draw 1000 times 10 samples from a bin of red and green balls, pr of choosing red is 0.55.\n",
    "proba of that one sample of the 1000 has not got red.\n",
    "\n",
    "$p(allgreen)*1000=3.40*10^{-4}*10**3 = 0.34$\n",
    "\n",
    "closest answer = C"
   ]
  },
  {
   "cell_type": "markdown",
   "metadata": {},
   "source": [
    "## Q6\n"
   ]
  },
  {
   "cell_type": "code",
   "execution_count": 112,
   "metadata": {
    "collapsed": true
   },
   "outputs": [],
   "source": [
    "def run_perceptron(x_train, y_train, x_test=None, max_iter=100):\n",
    "    w = np.zeros((2,))\n",
    "    w0 = np.array([0.])\n",
    "    for cur_iter in range(max_iter):\n",
    "        y_pred = np.dot(x_train, w) + w0 > 0\n",
    "        ind = np.arange(len(y_train))[y_pred != y_train]\n",
    "        if len(ind):\n",
    "            np.random.shuffle(ind)\n",
    "            example = x_train[ind[0]]\n",
    "            y = 1 if y_train[ind[0]] else -1\n",
    "            w += example * y\n",
    "            w0 += 1 * y\n",
    "        else:\n",
    "            break\n",
    "    if x_test is not None:\n",
    "        y_pred_test = np.dot(x_test, w) + w0 > 0\n",
    "        return cur_iter, y_pred_test\n",
    "    else:\n",
    "        return cur_iter\n",
    "\n",
    "def generate(nb=10):\n",
    "    x1, y1, x2, y2 = np.random.uniform(-1, 1, size=4)\n",
    "    a=1\n",
    "    x1/=a\n",
    "    y1/=a\n",
    "    x2/=a\n",
    "    y2/=a\n",
    "    m = (y2-y1)/(x2-x1)\n",
    "    p = y1 - m * x1\n",
    "    x_train = np.random.uniform(-1, 1, size=(nb, 2))\n",
    "    a = -m\n",
    "    b = 1\n",
    "    c = -p\n",
    "    norm = np.array([a, b])\n",
    "    y_train = np.dot(x_train, norm) + c > 0\n",
    "    return x_train, y_train\n",
    "\n",
    "def viz():\n",
    "    display.clear_output(wait=True)\n",
    "\n",
    "\n",
    "    fig = plt.figure()\n",
    "    ax = fig.add_subplot(111)\n",
    "    ax.scatter(x_train[:, 0], x_train[:, 1], c=y_train)\n",
    "\n",
    "\n",
    "    plt.plot([x1, x2], [y1, y2], c='red', linewidth=2)\n",
    "\n",
    "    x1_model = 0\n",
    "    y1_model = -(w0+w[0]*x1_model)/w[1]\n",
    "    x2_model = 1\n",
    "    y2_model = -(w0+w[0]*x2_model)/w[1]\n",
    "    plt.plot([x1_model, x2_model], [y1_model, y2_model], c='green', linewidth=2)\n",
    "    ax.set_xlim([-2,2])\n",
    "    ax.set_ylim([-2,2])\n",
    "\n",
    "    display.display(plt.gcf())\n",
    "    plt.close(fig)"
   ]
  },
  {
   "cell_type": "markdown",
   "metadata": {},
   "source": [
    "## Q7-Q8-Q9-Q10"
   ]
  },
  {
   "cell_type": "code",
   "execution_count": 118,
   "metadata": {
    "collapsed": false
   },
   "outputs": [
    {
     "name": "stdout",
     "output_type": "stream",
     "text": [
      "(109.46299999999999, 201.24711831725691)\n"
     ]
    }
   ],
   "source": [
    "## perceptron\n",
    "%matplotlib inline\n",
    "import matplotlib.pyplot as plt\n",
    "import random\n",
    "from IPython import display\n",
    "import numpy as np\n",
    "max_iter = 100000\n",
    "nb_trials = 1000\n",
    "nb_iters = []\n",
    "for i in range(nb_trials):\n",
    "    x_train, y_train = generate(nb=100)\n",
    "    nb_iter = run_perceptron(x_train, y_train, max_iter=100000)\n",
    "    nb_iters.append(nb_iter)\n",
    "    \n",
    "print(np.mean(nb_iters), np.std(nb_iters))\n",
    "# closest anwer for 7: 15 iterations for N=10 points\n",
    "# closest anwer for 9: 100 iterations for N=100 points"
   ]
  },
  {
   "cell_type": "code",
   "execution_count": 131,
   "metadata": {
    "collapsed": false
   },
   "outputs": [
    {
     "name": "stdout",
     "output_type": "stream",
     "text": [
      "(0.0017949494949494949, 0.042328804037677172)\n"
     ]
    }
   ],
   "source": [
    "errs = []\n",
    "nb_train = 1000\n",
    "nb_trials = 10\n",
    "for i in range(nb_trials):\n",
    "    x, y = generate(nb=1000*100)\n",
    "    x_train = x[0:nb_train]\n",
    "    y_train = y[0:nb_train]\n",
    "    x_test = x[nb_train:]\n",
    "    y_test = y[nb_train:]\n",
    "    nb_iter, y_pred_test = run_perceptron(x_train, y_train, x_test=x_test, max_iter=max_iter)\n",
    "    err = (y_pred_test != y_test)\n",
    "    errs.append(err)\n",
    "print(np.mean(errs), np.std(errs))\n",
    "# closest anwer for 8: 0.1 for N=10 points\n",
    "# closest anwer for 10: 0.01 for N=100 points"
   ]
  }
 ],
 "metadata": {
  "kernelspec": {
   "display_name": "Python 2",
   "language": "python",
   "name": "python2"
  },
  "language_info": {
   "codemirror_mode": {
    "name": "ipython",
    "version": 2
   },
   "file_extension": ".py",
   "mimetype": "text/x-python",
   "name": "python",
   "nbconvert_exporter": "python",
   "pygments_lexer": "ipython2",
   "version": "2.7.12"
  }
 },
 "nbformat": 4,
 "nbformat_minor": 0
}
