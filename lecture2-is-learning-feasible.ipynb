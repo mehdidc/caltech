{
 "cells": [
  {
   "cell_type": "markdown",
   "metadata": {},
   "source": [
    "yes, the basic building block is the hoefdding inequality, you have red and green balls, you want to approximate the frequency of red balls from samples, let's call the true frequency $\\mu$ and the estimated one from samples $v$. \n",
    "\n",
    "the hoefdding inequality  tells us that the statement \"$\\mu=v$\" is \n",
    "probably approximately correct (P.A.C), they are close in a probabilistic sense for a given tolerance $\\epsilon$ and a sample size N :\n",
    "\n",
    "$P(|v - \\mu| > \\epsilon) <= 2e^{-2\\epsilon^2 N}$\n",
    "\n",
    "which should be read P(bad event) <= ..., the bad event is the event of v and $\\mu$ being not close according to the chosen tolerance. this ineequality holds for any sample size and tolerance. this inequality role is to guarantee that the estimator is close to the real value in this probabilistic sense.\n",
    "\n",
    "it is a tradeoff, more tolerance needs more points to achieve the same upper bound.\n",
    "\n",
    "now, what is the relationship to learning ?\n",
    "\n",
    "let's fix one hypothesis h, and each ball in the population we sample is an input point, and the red balls are input  points with $h(x) = f(x)$ and the greeen balls are input points with $h(x) != f(x) $. then we do the same, we count the freqs. Then hoefdinng inequality tells us :\n",
    "\n",
    "\n",
    "$P(|trainError(h) - testError(h)| > \\epsilon) <= 2e^{-2\\epsilon^2 N}$\n",
    "\n",
    "so this now tells us that training error will be close to test error under this probablistic sense, this is **verification** not learning. we have one hypothesis and we want to see whether it is possible to learn. if we have multiple hypotheses $h_1$ to $h_M$ and we finally choose some hypothesis $h_g$ after training where g can be any of the possible hypotheses, then  :\n",
    "\n",
    "$P(|trainError(h_g) - testError(h_g)| > \\epsilon) <= P(|trainError(h_1) - testError(h_1)| > \\epsilon \\\\OR \\\\  \n",
    "                                                       |trainError(h_2) - testError(h_2)| > \\epsilon \\\\OR ...\\\\\n",
    "                                                       |trainError(h_M) - testError(h_M)| > \\epsilon \\\\OR \\\\\n",
    "                                                       )$\n",
    "\n",
    "in the worst case we just sum up:\n",
    "\n",
    "$P(|trainError(h_g) - testError(h_g)| > \\epsilon) <= 2Me^{-2\\epsilon^2 N}$\n",
    "\n",
    "intuitively this tells that if we have only one hypothesis then it has some probability of being a bad hypothesis,now if you have multiple hypotheses, then the probability of selecting a bad hypotehsis gets bigger because you have more hypotheses and so more chance of a 'bad hypothesis' event to happen.\n",
    "\n",
    "now we are talking about learning, the probabilistic process is the following, we generate a dataset from the unknown probability distribution, we explore the hypothesis set using our training algorithm to select some final hypothesis g. then this bound tells us that learning is feasible whatever the final hypothesis we have chosen (it is feasiable in the sense that the probability of not generalizing to test data is upper bounded).\n",
    "So this hoeding inequality is not the whole story, the only thing of what this tell us is that training error will be close to test error, but the exploration of the hypothesis set using the training algorithm is also important because:\n",
    "what we also want is to have a low training error, so that the test error is also low if we follow heofding ineq.\n",
    "\n",
    "**So why learning is possible ? because the modified hoefding inequality for multiple hypotehse tells you that learning is feasible (becasue we bound the probability of bad hypotehses) whatever is the hypothesis you select from the possible hypotheses. So, learning behaves well**\n",
    "Also, Hoefding inequality is good because you don't need to make assumptions of the data generating process( the bound does not depend on the data generating process), this is one of the premises of machine learning"
   ]
  },
  {
   "cell_type": "code",
   "execution_count": 21,
   "metadata": {
    "collapsed": false
   },
   "outputs": [
    {
     "name": "stdout",
     "output_type": "stream",
     "text": [
      "P(|v - \\mu| > \\epsilon) <= 0.270670566473\n"
     ]
    }
   ],
   "source": [
    "from math import exp\n",
    "epsilon, N = 0.001, 1000000\n",
    "ub = 2 * exp(-2 * epsilon**2 * N)\n",
    "print('P(|v - \\mu| > \\epsilon) <= {}'.format(ub))"
   ]
  },
  {
   "cell_type": "code",
   "execution_count": 2,
   "metadata": {
    "collapsed": false
   },
   "outputs": [
    {
     "data": {
      "image/png": "[encoded data removed]",
      "text/plain": [
       "<matplotlib.figure.Figure at 0x10cb0efd0>"
      ]
     },
     "metadata": {},
     "output_type": "display_data"
    }
   ],
   "source": [
    "%matplotlib inline\n",
    "import matplotlib.pyplot as plt\n",
    "import numpy as np\n",
    "epsilon, N = 0.001, np.logspace(0, 10)\n",
    "ub = 2 * np.exp(-2 * epsilon**2 * N)\n",
    "plt.plot(N, ub)\n",
    "plt.xlabel('nb of examples')\n",
    "plt.ylabel('proba of bad event upper bound')\n",
    "plt.xscale('log')"
   ]
  },
  {
   "cell_type": "code",
   "execution_count": 3,
   "metadata": {
    "collapsed": false
   },
   "outputs": [
    {
     "name": "stdout",
     "output_type": "stream",
     "text": [
      "obtained proportion of bad events : 0.07957, upper bound for bad events proportion : 0.735758882343\n"
     ]
    }
   ],
   "source": [
    "mu = 0.8\n",
    "N = 5000\n",
    "epsilon = 0.01\n",
    "repeats = 100000\n",
    "samples = np.random.uniform(size=(repeats, N)) <= mu\n",
    "v = samples.mean(axis=1)\n",
    "ub = 2 * np.exp(-2 * epsilon**2 * N)\n",
    "bad = (np.abs(v - mu) > epsilon).mean()\n",
    "print('obtained proportion of bad events : {}, upper bound for bad events proportion : {}'.format(bad, ub))"
   ]
  },
  {
   "cell_type": "code",
   "execution_count": null,
   "metadata": {
    "collapsed": true
   },
   "outputs": [],
   "source": []
  }
 ],
 "metadata": {
  "kernelspec": {
   "display_name": "Python 2",
   "language": "python",
   "name": "python2"
  },
  "language_info": {
   "codemirror_mode": {
    "name": "ipython",
    "version": 2
   },
   "file_extension": ".py",
   "mimetype": "text/x-python",
   "name": "python",
   "nbconvert_exporter": "python",
   "pygments_lexer": "ipython2",
   "version": "2.7.11"
  }
 },
 "nbformat": 4,
 "nbformat_minor": 0
}
