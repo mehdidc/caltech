{
 "cells": [
  {
   "cell_type": "markdown",
   "metadata": {
    "collapsed": true
   },
   "source": [
    "**the error measure is not an analytical question, but a domain specific question** :\n",
    "\n",
    "two examples to think of, both are binary classification.\n",
    "Super market verifies fingerprints for discounts, you get discount if they recognize you, you dont get if they dont.\n",
    "False accept => okay, False reject => very bad. \n",
    "\n",
    "CIA  fingerprint verification for security : False accept => disaster, False reject => okay.\n",
    "\n",
    "Sometimes difficult to formalize cost function, to optimize it, we use some 'generic'  loss functions, this should always be  a second choice.\n"
   ]
  },
  {
   "cell_type": "markdown",
   "metadata": {},
   "source": [
    "the learning diagram:"
   ]
  },
  {
   "cell_type": "markdown",
   "metadata": {},
   "source": [
    "![](http://i.imgur.com/aNrUiZp.png)"
   ]
  },
  {
   "cell_type": "markdown",
   "metadata": {},
   "source": [
    "the two questions/ of learning :\n",
    "\n",
    "- is Error on train close to Error on test ? learning theory, a theoritical question\n",
    "- is the Error on train close to zero enough ? practical because we can see it\n",
    "\n",
    "if both of questions are satistfied then we learned."
   ]
  },
  {
   "cell_type": "markdown",
   "metadata": {},
   "source": [
    "![](http://i.imgur.com/eFBDxMv.png)"
   ]
  }
 ],
 "metadata": {
  "kernelspec": {
   "display_name": "Python 2",
   "language": "python",
   "name": "python2"
  },
  "language_info": {
   "codemirror_mode": {
    "name": "ipython",
    "version": 2
   },
   "file_extension": ".py",
   "mimetype": "text/x-python",
   "name": "python",
   "nbconvert_exporter": "python",
   "pygments_lexer": "ipython2",
   "version": "2.7.12"
  }
 },
 "nbformat": 4,
 "nbformat_minor": 0
}
