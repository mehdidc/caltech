{
 "cells": [
  {
   "cell_type": "markdown",
   "metadata": {},
   "source": [
    "* supervised learning : we tell you what the correct output should have been\n",
    "* unsupervised learning : I dont give you any output\n",
    "* reinforcement learning : you give output (the action) and we tell you how well the output you have chosen is good (less supervision than supervised learning) (the reward), instead of giving what was the output you should have chosen"
   ]
  },
  {
   "cell_type": "markdown",
   "metadata": {},
   "source": [
    "* differece between stats and ML ? stats is a mathematical field, so we usually make more assumptions to study the learning models/algorithms. in ML we try to make the fewest possible assumptions. even linear regression is studied differently in stats and ML, more assumptions are made in the stats."
   ]
  },
  {
   "cell_type": "markdown",
   "metadata": {},
   "source": [
    "* how much data we need ? theoritical answer : this is what learning theory is about, practical question : this is not under your control is general."
   ]
  }
 ],
 "metadata": {
  "kernelspec": {
   "display_name": "Python 2",
   "language": "python",
   "name": "python2"
  },
  "language_info": {
   "codemirror_mode": {
    "name": "ipython",
    "version": 2
   },
   "file_extension": ".py",
   "mimetype": "text/x-python",
   "name": "python",
   "nbconvert_exporter": "python",
   "pygments_lexer": "ipython2",
   "version": "2.7.11"
  }
 },
 "nbformat": 4,
 "nbformat_minor": 0
}
