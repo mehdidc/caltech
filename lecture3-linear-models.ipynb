{
 "cells": [
  {
   "cell_type": "code",
   "execution_count": 1,
   "metadata": {
    "collapsed": false
   },
   "outputs": [
    {
     "name": "stderr",
     "output_type": "stream",
     "text": [
      "/home/ubuntu/work/code/external/scikit-learn/sklearn/cross_validation.py:43: DeprecationWarning: This module has been deprecated in favor of the model_selection module into which all the refactored classes and functions are moved. Also note that the interface of the new CV iterators are different from that of this module. This module will be removed in 0.20.\n",
      "  \"This module will be removed in 0.20.\", DeprecationWarning)\n"
     ]
    }
   ],
   "source": [
    "%matplotlib inline\n",
    "import matplotlib.pyplot as plt\n",
    "from sklearn.linear_model import LinearRegression\n",
    "from sklearn.feature_extraction.text import TfidfVectorizer\n",
    "from sklearn.cross_validation import train_test_split\n",
    "import pandas as pd\n",
    "from sklearn.pipeline import make_pipeline\n",
    "from sklearn.linear_model import LinearRegression, SGDRegressor, SGDClassifier, LogisticRegression\n",
    "import numpy as np\n",
    "import seaborn as sns\n",
    "pd.options.display.expand_frame_repr = True"
   ]
  },
  {
   "cell_type": "markdown",
   "metadata": {},
   "source": [
    "$\\theta = (X^T X)^{-1}X^T y$"
   ]
  },
  {
   "cell_type": "markdown",
   "metadata": {},
   "source": [
    "derived by zeroing gradients of mean squared error"
   ]
  },
  {
   "cell_type": "markdown",
   "metadata": {},
   "source": [
    "QA"
   ]
  },
  {
   "cell_type": "markdown",
   "metadata": {},
   "source": [
    "* why transform features non-linearly ? to deal with non-linearly separable cases\n",
    "* the diff between train and test error is the epsilon in hoefding ineq\n",
    "* we can use linear regression directly for classification (-1 and 1 as targets), plus add a threshold to decide to vote for class +1 or class -1. what does this change ?  regression will try to make all targets of positive labels +1 and all the targets of negative labels -1, wheeras in  classification we are only interested in the sign. as a result, a target of -2 for a class -1 is considered as an error in regression whereas it is correct in classiccation. the regression case will try to move the line so that all targets of all the positives points is 1  and all the targets of all negative points is -1, which is not reall possible unless the points are replicates."
   ]
  },
  {
   "cell_type": "code",
   "execution_count": 91,
   "metadata": {
    "collapsed": false
   },
   "outputs": [
    {
     "data": {
      "text/plain": [
       "<matplotlib.legend.Legend at 0x7f336431ac90>"
      ]
     },
     "execution_count": 91,
     "metadata": {},
     "output_type": "execute_result"
    },
    {
     "data": {
      "image/png": "[encoded data removed]",
      "text/plain": [
       "<matplotlib.figure.Figure at 0x7f33645b5650>"
      ]
     },
     "metadata": {},
     "output_type": "display_data"
    }
   ],
   "source": [
    "c1 = np.random.normal(5, 4, size=(100, 2))\n",
    "c2 = np.random.normal(10, 1, size=(100, 2))\n",
    "x = np.concatenate((c1, c2), axis=0)\n",
    "y = [1] * len(c1) + [-1] * len(c2)\n",
    "y = np.array(y)\n",
    "reg = LinearRegression()\n",
    "reg = reg.fit(x, y)\n",
    "clf = LogisticRegression()\n",
    "clf = clf.fit(x, y)\n",
    "v1 = [-reg.coef_[1], reg.coef_[0]] # https://fr.wikipedia.org/wiki/Vecteur_directeur\n",
    "v1 = np.array(v1)\n",
    "\n",
    "n1 = x[:,0].min()\n",
    "m1 = (-reg.coef_[0] * n1 - reg.intercept_) / reg.coef_[1]\n",
    "n2 =  x[:,0].max()\n",
    "m2 = (-reg.coef_[0] * n2 - reg.intercept_) / reg.coef_[1]\n",
    "plt.plot([n1, n2], [m1, m2], label='reg')\n",
    "\n",
    "n1 = x[:,0].min()\n",
    "m1 = (-clf.coef_[0,0] * n1 - clf.intercept_) / clf.coef_[0,1]\n",
    "n2 = x[:,0].max()\n",
    "m2 = (-clf.coef_[0,0] * n2 - clf.intercept_) / clf.coef_[0,1]\n",
    "plt.plot([n1, n2], [m1, m2], c='orange', label='classif')\n",
    "\n",
    "plt.scatter(c1[:, 0], c1[:, 1], c='red')\n",
    "plt.scatter(c2[:, 0], c2[:, 1], c='green')\n",
    "plt.legend()"
   ]
  },
  {
   "cell_type": "code",
   "execution_count": 92,
   "metadata": {
    "collapsed": false
   },
   "outputs": [],
   "source": [
    "df = pd.read_csv('amazon-fine-foods/Reviews.csv')"
   ]
  },
  {
   "cell_type": "code",
   "execution_count": null,
   "metadata": {
    "collapsed": false
   },
   "outputs": [],
   "source": [
    "df.sample(5)"
   ]
  },
  {
   "cell_type": "code",
   "execution_count": null,
   "metadata": {
    "collapsed": false
   },
   "outputs": [],
   "source": [
    "X = df['Text']\n",
    "y = df['Score']\n",
    "X_train, X_test, y_train, y_test = train_test_split(X, y, test_size=0.5)"
   ]
  },
  {
   "cell_type": "code",
   "execution_count": null,
   "metadata": {
    "collapsed": false
   },
   "outputs": [],
   "source": [
    "tf = TfidfVectorizer().fit(X_train)"
   ]
  },
  {
   "cell_type": "code",
   "execution_count": null,
   "metadata": {
    "collapsed": false
   },
   "outputs": [],
   "source": [
    "reg = LogisticRegression(verbose=1)\n",
    "#reg = LinearRegression()\n",
    "reg.fit(tf.transform(X_train), y_train)"
   ]
  },
  {
   "cell_type": "code",
   "execution_count": null,
   "metadata": {
    "collapsed": false
   },
   "outputs": [],
   "source": [
    "(reg.predict(tf.transform(X_test)) == y_test).mean()"
   ]
  },
  {
   "cell_type": "code",
   "execution_count": null,
   "metadata": {
    "collapsed": false
   },
   "outputs": [],
   "source": [
    "len(tf.get_feature_names())"
   ]
  },
  {
   "cell_type": "code",
   "execution_count": null,
   "metadata": {
    "collapsed": false
   },
   "outputs": [],
   "source": [
    "plt.bar()"
   ]
  },
  {
   "cell_type": "code",
   "execution_count": null,
   "metadata": {
    "collapsed": false
   },
   "outputs": [],
   "source": [
    "df = {'names': tf.get_feature_names(), 'imp': reg.coef_[0]}\n",
    "df = pd.DataFrame(df)\n",
    "df = df.sort_values(by='imp', ascending=False)\n",
    "nb = 20\n",
    "df = pd.concat((df.iloc[0:nb], df.iloc[-1:-nb:-1]))\n",
    "Chart(df).mark_bar().encode(x='names', y='imp')"
   ]
  },
  {
   "cell_type": "code",
   "execution_count": null,
   "metadata": {
    "collapsed": false
   },
   "outputs": [],
   "source": [
    "Chart(df).encode.__docs__"
   ]
  },
  {
   "cell_type": "code",
   "execution_count": null,
   "metadata": {
    "collapsed": true
   },
   "outputs": [],
   "source": []
  },
  {
   "cell_type": "code",
   "execution_count": null,
   "metadata": {
    "collapsed": true
   },
   "outputs": [],
   "source": [
    "## linear regression"
   ]
  }
 ],
 "metadata": {
  "kernelspec": {
   "display_name": "Python 2",
   "language": "python",
   "name": "python2"
  },
  "language_info": {
   "codemirror_mode": {
    "name": "ipython",
    "version": 2
   },
   "file_extension": ".py",
   "mimetype": "text/x-python",
   "name": "python",
   "nbconvert_exporter": "python",
   "pygments_lexer": "ipython2",
   "version": "2.7.12"
  }
 },
 "nbformat": 4,
 "nbformat_minor": 0
}
