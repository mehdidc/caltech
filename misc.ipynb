{
 "cells": [
  {
   "cell_type": "markdown",
   "metadata": {},
   "source": [
    "# complexity of the linear regression model learning algorithm"
   ]
  },
  {
   "cell_type": "markdown",
   "metadata": {},
   "source": [
    "$X$ is  $(N, p)$\n",
    "\n",
    "$y$ is $(N,)$\n",
    "\n",
    "$X^T X$ $(N,p)x(p, N)$ which has complexity $O(N^2p)$ (for loop over N, for loop over N, for loop over p)\n",
    "\n",
    "$(X^T X)^{-1}$ is $O(N^3)$\n",
    "\n",
    "$(X^T X)^{-1} y$ is $O(N^2)$\n",
    "\n",
    "total : \n",
    "\n",
    "$O(N^2p) + O(N^{3}) + O(N^{2})$\n",
    "\n",
    "Source : <https://en.wikipedia.org/wiki/Computational_complexity_of_mathematical_operations#Matrix_algebra>"
   ]
  }
 ],
 "metadata": {
  "kernelspec": {
   "display_name": "Python 2",
   "language": "python",
   "name": "python2"
  },
  "language_info": {
   "codemirror_mode": {
    "name": "ipython",
    "version": 2
   },
   "file_extension": ".py",
   "mimetype": "text/x-python",
   "name": "python",
   "nbconvert_exporter": "python",
   "pygments_lexer": "ipython2",
   "version": "2.7.12"
  }
 },
 "nbformat": 4,
 "nbformat_minor": 0
}
